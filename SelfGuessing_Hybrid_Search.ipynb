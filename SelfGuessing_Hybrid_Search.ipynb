{
 "cells": [
  {
   "cell_type": "markdown",
   "id": "e689df44-cdbc-484c-ac4a-0eaa899d6c7a",
   "metadata": {},
   "source": [
    "# Self-Guessing Hybrid Search (aka Part 3/3)\n",
    "\n",
    "Assume we have a working recipe for hybrid search in the form `(query, [keyword]) => [(snippet, siilarity)]`.\n",
    "\n",
    "Now the goal of this notebook is, _can we self-guess the keywords from the query and have the caller supply just the query?_"
   ]
  },
  {
   "cell_type": "code",
   "execution_count": 9,
   "id": "221fdcd4-dd8b-48b3-94d1-75cbaf579cbf",
   "metadata": {},
   "outputs": [],
   "source": [
    "import os\n",
    "from functools import partial\n",
    "from dotenv import load_dotenv\n",
    "\n",
    "_ = load_dotenv('.env')"
   ]
  },
  {
   "cell_type": "code",
   "execution_count": 2,
   "id": "05129e85-c628-495e-b3cc-4fdde3f69154",
   "metadata": {},
   "outputs": [],
   "source": [
    "import cassio"
   ]
  },
  {
   "cell_type": "code",
   "execution_count": 3,
   "id": "bbf13f7c-cbe8-4447-96d9-5eb7aa820874",
   "metadata": {},
   "outputs": [],
   "source": [
    "cassio.init(\n",
    "    token=os.environ['ASTRA_DB_APPLICATION_TOKEN'],\n",
    "    database_id=os.environ['ASTRA_DB_ID'],\n",
    "    keyspace=os.environ.get('ASTRA_DB_KEYSPACE'),\n",
    ")\n",
    "session = cassio.config.resolve_session()\n",
    "keyspace = cassio.config.resolve_keyspace()"
   ]
  },
  {
   "cell_type": "code",
   "execution_count": 4,
   "id": "f6115336-6e1f-4365-8244-2e53ea4cf0e1",
   "metadata": {},
   "outputs": [],
   "source": [
    "import openai\n",
    "\n",
    "embedding_model_name = \"text-embedding-ada-002\"\n",
    "\n",
    "def get_embeddings(texts):\n",
    "    result = openai.Embedding.create(\n",
    "        input=texts,\n",
    "        engine=embedding_model_name,\n",
    "    )\n",
    "    return [res.embedding for res in result.data]"
   ]
  },
  {
   "cell_type": "markdown",
   "id": "2f4a049e-934f-4254-a5ab-36b82dc55647",
   "metadata": {},
   "source": [
    "### Recap\n",
    "\n",
    "Let's use the latest \"hybrid search\" function from the previous investigation. One important point is that we'll proceed with the keywords in OR (i.e. a single keyword match suffices for a hit). This enables a meaningful contribution to the \"score\" from the keyword side; but most important, with the keywords being self-guessed, it protects somewhat from too-demanding \"guesses\" from the query."
   ]
  },
  {
   "cell_type": "markdown",
   "id": "da5bc597-b20a-4797-964e-2ed42cb187aa",
   "metadata": {},
   "source": [
    "**We have packaged the latest machinery from Part 2 into a Python module to reduce clutter, nothing new**\n",
    "\n",
    "_(We just renamed the final hybrid-search function for convenience and made sure the DB parameters pass through the calls)_"
   ]
  },
  {
   "cell_type": "code",
   "execution_count": 6,
   "id": "5551ffeb-1b88-4599-8cd7-8dda7193cc2d",
   "metadata": {},
   "outputs": [],
   "source": [
    "from kw_hybrid_tools import hybrid_search_with_kw, show"
   ]
  },
  {
   "cell_type": "markdown",
   "id": "e9a4f616-5321-476f-9f4b-84d4975cf6e6",
   "metadata": {},
   "source": [
    "Let's define a handy shortcut and run a sanity check (to be compared with the \"QUERY7/KW7\" run in the previous notebook):"
   ]
  },
  {
   "cell_type": "code",
   "execution_count": 11,
   "id": "8b2e846a-57a2-491c-8b4b-8bee3b12c499",
   "metadata": {},
   "outputs": [
    {
     "name": "stdout",
     "output_type": "stream",
     "text": [
      "[with safe prefetch] QUERY: 'How come I cannot chat?', KEYWORDS: 'support, chat'\n",
      "    [1] 0.96758 \"I cannot open the support chat.\"\n",
      "    [2] 0.96159 \"I see no messages in the support chat.\"\n",
      "    [3] 0.95498 \"The support chat on the website is lagging.\"\n"
     ]
    }
   ],
   "source": [
    "hybrid_kw = partial(hybrid_search_with_kw, session=session, keyspace=keyspace, get_embeddings=get_embeddings)\n",
    "\n",
    "KW0 = ['support', 'chat']\n",
    "QUERY0 = \"How come I cannot chat?\"\n",
    "\n",
    "print(f\"[with safe prefetch] QUERY: '{QUERY0}', KEYWORDS: \\'{', '.join(KW0)}\\'\")\n",
    "show(hybrid_kw(query=QUERY0, keywords=KW0))"
   ]
  },
  {
   "cell_type": "markdown",
   "id": "91f9becb-040d-41ba-a11f-6f8e17573f89",
   "metadata": {},
   "source": [
    "## Guessing the keywords from the query"
   ]
  },
  {
   "cell_type": "code",
   "execution_count": null,
   "id": "37eb85ff-3a34-4cb3-8106-8b1ce2d28d30",
   "metadata": {},
   "outputs": [],
   "source": []
  }
 ],
 "metadata": {
  "kernelspec": {
   "display_name": "Python 3 (ipykernel)",
   "language": "python",
   "name": "python3"
  },
  "language_info": {
   "codemirror_mode": {
    "name": "ipython",
    "version": 3
   },
   "file_extension": ".py",
   "mimetype": "text/x-python",
   "name": "python",
   "nbconvert_exporter": "python",
   "pygments_lexer": "ipython3",
   "version": "3.10.12"
  }
 },
 "nbformat": 4,
 "nbformat_minor": 5
}
