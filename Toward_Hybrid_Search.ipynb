{
 "cells": [
  {
   "cell_type": "code",
   "execution_count": 22,
   "id": "65706bf4-41d5-45d7-86d7-309d692a616b",
   "metadata": {},
   "outputs": [],
   "source": [
    "import os\n",
    "from dotenv import load_dotenv\n",
    "import hashlib\n",
    "\n",
    "_ = load_dotenv('.env')"
   ]
  },
  {
   "cell_type": "code",
   "execution_count": 9,
   "id": "16a132a7-cf3b-4899-9adb-7f761b8bc6b8",
   "metadata": {},
   "outputs": [],
   "source": [
    "import cassio"
   ]
  },
  {
   "cell_type": "code",
   "execution_count": 10,
   "id": "ce05e410-dee8-4032-a0f3-e5d2c4fcdca8",
   "metadata": {},
   "outputs": [],
   "source": [
    "cassio.init(token=os.environ['ASTRA_DB_APPLICATION_TOKEN'], database_id=os.environ['ASTRA_DB_ID'])"
   ]
  },
  {
   "cell_type": "code",
   "execution_count": 14,
   "id": "25f71ae1-4ce4-4c49-bccd-a95006323b18",
   "metadata": {},
   "outputs": [],
   "source": [
    "# we need those as we'll run 'bare CQL' here\n",
    "session = cassio.config.resolve_session()\n",
    "keyspace = cassio.config.resolve_keyspace()"
   ]
  },
  {
   "cell_type": "markdown",
   "id": "42b3ecff-575d-411c-acf4-91aa57745307",
   "metadata": {},
   "source": [
    "# Toward Hybrid search\n",
    "\n",
    "Problem: we have several text snippets which will be vector-searched.\n",
    "\n",
    "But it will be apparent that \"vector search is not enough\". What we'll explore here are solutions for hybrid search that scale well at Astra DB scale."
   ]
  },
  {
   "cell_type": "code",
   "execution_count": 91,
   "id": "9da8b7c2-049b-4afd-bc95-5a883dbda780",
   "metadata": {},
   "outputs": [],
   "source": [
    "snippets = [\n",
    "    \"I would like to buy gift cards. Where can I get discounts?\",\n",
    "    \"The support operator is using foul language.\",\n",
    "    \"I cannot open the support chat.\",\n",
    "    \"I see no messages in the support chat.\",\n",
    "    \"Are special offers available?\",\n",
    "    \"The support chat on the website is lagging.\",\n",
    "    \"I cannot speak with the support operator!\",\n",
    "    \"I want to inquire about a specific product line.\",\n",
    "    \"I have tried multiple times to make a payment but it does not get processed.\",\n",
    "    \"I am having trouble opening my shopping cart!\",\n",
    "    \"Speaking to a technicial is impossible, WTF?\",\n",
    "]"
   ]
  },
  {
   "cell_type": "markdown",
   "id": "4123047f-6019-4ed4-bfa8-ccf8f2bfe593",
   "metadata": {},
   "source": [
    "We are intentionally leaving out any field such as \"metadata\", to try and focus exclusively on the text. In other words, adding metadata would require an effort (sudh as manual/AI-assisted labeling) which would scale with the number of rows, which we are trying to avoid by shifting all the load on the query side."
   ]
  },
  {
   "cell_type": "code",
   "execution_count": 16,
   "id": "61a0ac69-4bc6-467b-8f17-3b92dad4eab8",
   "metadata": {},
   "outputs": [],
   "source": [
    "vector_dimension = 1536  # openAI ..."
   ]
  },
  {
   "cell_type": "code",
   "execution_count": 17,
   "id": "03bc347d-382c-4bac-918d-93fcaa0b6061",
   "metadata": {},
   "outputs": [
    {
     "data": {
      "text/plain": [
       "<cassandra.cluster.ResultSet at 0x7f3788bcdfc0>"
      ]
     },
     "execution_count": 17,
     "metadata": {},
     "output_type": "execute_result"
    }
   ],
   "source": [
    "CREATE_CQL = f\"CREATE TABLE {keyspace}.snippets (snippet_id TEXT PRIMARY KEY, snippet TEXT, embedding VECTOR<FLOAT,{vector_dimension}>);\"\n",
    "session.execute(CREATE_CQL)\n",
    "\n",
    "CREATE_V_IDX = f\"CREATE CUSTOM INDEX snippets_embedding_idx ON {keyspace}.snippets (embedding) USING 'StorageAttachedIndex';\"\n",
    "session.execute(CREATE_V_IDX)"
   ]
  },
  {
   "cell_type": "markdown",
   "id": "2f433fd8-6a8a-4698-971c-2121fdaa092d",
   "metadata": {},
   "source": [
    "## Get embeddings and insert rows"
   ]
  },
  {
   "cell_type": "code",
   "execution_count": 20,
   "id": "2e3c885a-e8d2-4b2d-a62e-34270fed5c21",
   "metadata": {},
   "outputs": [],
   "source": [
    "import openai\n",
    "\n",
    "embedding_model_name = \"text-embedding-ada-002\"\n",
    "\n",
    "def get_embeddings(texts):\n",
    "    result = openai.Embedding.create(\n",
    "        input=texts,\n",
    "        engine=embedding_model_name,\n",
    "    )\n",
    "    return [res.embedding for res in result.data]"
   ]
  },
  {
   "cell_type": "code",
   "execution_count": 25,
   "id": "e0331abf-5b6c-4c26-b9dc-8b0fbd4fcbb2",
   "metadata": {},
   "outputs": [
    {
     "name": "stdout",
     "output_type": "stream",
     "text": [
      "50f0866734db8ec79171ddc6b13988d9\n"
     ]
    }
   ],
   "source": [
    "def snippet_id(sn): return hashlib.md5(sn.encode()).hexdigest()\n",
    "\n",
    "print(snippet_id(\"Test snippet.\"))"
   ]
  },
  {
   "cell_type": "code",
   "execution_count": 92,
   "id": "7a948b2e-990e-4ec1-b1a2-4900f3375f38",
   "metadata": {},
   "outputs": [],
   "source": [
    "# TODO if ever needed, add batching to this.\n",
    "\n",
    "embeddings = get_embeddings(snippets)\n",
    "\n",
    "INSERT_ROW = session.prepare(f\"INSERT INTO {keyspace}.snippets (snippet_id, snippet, embedding) VALUES (?, ?, ?);\")\n",
    "\n",
    "for snippet, embedding in zip(snippets, embeddings):\n",
    "    session.execute(INSERT_ROW, (\n",
    "        snippet_id(snippet),\n",
    "        snippet,\n",
    "        embedding,\n",
    "    ))"
   ]
  },
  {
   "cell_type": "markdown",
   "id": "aaa42674-c782-4e2b-a3dd-3e6797f21be8",
   "metadata": {},
   "source": [
    "## Simple retrieval"
   ]
  },
  {
   "cell_type": "code",
   "execution_count": 29,
   "id": "fcf0cb47-b05b-4b7b-91fa-332c697bc693",
   "metadata": {},
   "outputs": [],
   "source": [
    "query = \"I cannot even use the frigging website!\""
   ]
  },
  {
   "cell_type": "code",
   "execution_count": 37,
   "id": "f68d2e18-8584-4c74-85b5-8c5801d82273",
   "metadata": {},
   "outputs": [],
   "source": [
    "SIMPLE_ANN = session.prepare(f\"SELECT snippet, similarity_cosine(embedding, ?) as similarity FROM {keyspace}.snippets ORDER BY embedding ANN OF ? LIMIT ?\")\n",
    "\n",
    "def simple_ann(query, top_k=3):\n",
    "    q_vector = get_embeddings([query])[0]\n",
    "    return [\n",
    "        (row.snippet, row.similarity)\n",
    "        for row in session.execute(SIMPLE_ANN, (\n",
    "            q_vector,\n",
    "            q_vector,\n",
    "            top_k,\n",
    "        ))\n",
    "    ]"
   ]
  },
  {
   "cell_type": "code",
   "execution_count": 40,
   "id": "67c0ba88-a7d8-440f-bb06-a95cc7560ae2",
   "metadata": {},
   "outputs": [],
   "source": [
    "def show(results):\n",
    "    for ri, (sn, si) in enumerate(results):\n",
    "        print(f\"[{ri+1}] {si:.5f} \\\"{sn}\\\"\")"
   ]
  },
  {
   "cell_type": "code",
   "execution_count": 41,
   "id": "fef3cb61-bfeb-41e5-b467-6791948c5704",
   "metadata": {},
   "outputs": [
    {
     "name": "stdout",
     "output_type": "stream",
     "text": [
      "[1] 0.92787 \"I am having trouble opening my shopping cart!\"\n",
      "[2] 0.92661 \"I cannot speak with the support operator!\"\n",
      "[3] 0.91543 \"I cannot open the support chat.\"\n",
      "[4] 0.91177 \"The support chat on the website is lagging.\"\n",
      "[5] 0.89659 \"The support operator is using foul language.\"\n"
     ]
    }
   ],
   "source": [
    "show(simple_ann(query, 5))"
   ]
  },
  {
   "cell_type": "code",
   "execution_count": 42,
   "id": "f4820fed-47d0-4099-b51e-e3a4a8ec21f0",
   "metadata": {},
   "outputs": [
    {
     "name": "stdout",
     "output_type": "stream",
     "text": [
      "[1] 0.92036 \"The support chat on the website is lagging.\"\n",
      "[2] 0.90841 \"I am having trouble opening my shopping cart!\"\n",
      "[3] 0.90525 \"I cannot open the support chat.\"\n",
      "[4] 0.90367 \"I see no messages in the support chat.\"\n",
      "[5] 0.89755 \"I cannot speak with the support operator!\"\n"
     ]
    }
   ],
   "source": [
    "query2 = \"It seems that the website is broken\"\n",
    "show(simple_ann(query2, 5))"
   ]
  },
  {
   "cell_type": "markdown",
   "id": "7f5ae2e6-d963-4325-b3a0-07a70ae2d745",
   "metadata": {},
   "source": [
    "#### Lesson: beware of setting a threshold on just-ANN and calling it a day!"
   ]
  },
  {
   "cell_type": "markdown",
   "id": "d85c09cc-adae-48ed-88f1-fb838c4f1ea8",
   "metadata": {},
   "source": [
    "## Supplemental indexing for Hybrid"
   ]
  },
  {
   "cell_type": "markdown",
   "id": "0bf97fb6-ae21-42ff-a698-ec9d6fa3ad88",
   "metadata": {},
   "source": [
    "General idea: adding a stemming tokenized index on the `snippet` column, and then run hybrid queries of some sort.\n",
    "\n",
    "Let's try to use the \"stemming + untouched query\" case from the previous part of this journey:"
   ]
  },
  {
   "cell_type": "code",
   "execution_count": 45,
   "id": "ecd2543e-531f-4533-bb68-18f080477e75",
   "metadata": {},
   "outputs": [
    {
     "data": {
      "text/plain": [
       "<cassandra.cluster.ResultSet at 0x7f37803d4a60>"
      ]
     },
     "execution_count": 45,
     "metadata": {},
     "output_type": "execute_result"
    }
   ],
   "source": [
    "# Don't mind the \"{{\" and \"}}\", it's just to escape the F-string syntax here\n",
    "CREATE_S_IDX = f'''CREATE CUSTOM INDEX snippets_snippet_idx ON {keyspace}.snippets (snippet) USING 'StorageAttachedIndex'\n",
    "  WITH OPTIONS = {{\n",
    "    'index_analyzer': '{{\n",
    "      \"tokenizer\": {{\n",
    "        \"name\": \"standard\"\n",
    "      }},\n",
    "      \"filters\": [\n",
    "        {{\n",
    "          \"name\": \"lowercase\"\n",
    "        }},\n",
    "        {{\n",
    "          \"name\": \"porterstem\"\n",
    "        }}\n",
    "      ]\n",
    "    }}',\n",
    "    'query_analyzer': 'keyword'\n",
    "  }};'''\n",
    "\n",
    "session.execute(CREATE_S_IDX)"
   ]
  },
  {
   "cell_type": "markdown",
   "id": "35bed297-4362-4347-832c-5bae2db18dd3",
   "metadata": {},
   "source": [
    "#### A test query to see what this index finds"
   ]
  },
  {
   "cell_type": "code",
   "execution_count": 95,
   "id": "7e038f22-c25d-4713-b85a-050267123c05",
   "metadata": {},
   "outputs": [],
   "source": [
    "# we're not bothering with preparing statements here (variable shape, left as an exercise)\n",
    "# Hence, note the '%s' in place of the '?'.\n",
    "\n",
    "KEYWORD_QUERY_TEMPLATE = f\"SELECT snippet FROM {keyspace}.snippets{{where_clause}} LIMIT %s ALLOW FILTERING\"\n",
    "\n",
    "def create_where_parts(keywords):\n",
    "    where_clause_pieces = [\n",
    "        \"snippet : %s\"\n",
    "        for _ in sorted(set(keywords))\n",
    "    ]\n",
    "    where_clause_args = sorted(set(keywords))\n",
    "    if where_clause_pieces:\n",
    "        return (' WHERE ' + ' AND '.join(where_clause_pieces), where_clause_args)\n",
    "    else:\n",
    "        return ('', list())\n",
    "\n",
    "def find_by_keywords(keywords, n=3):\n",
    "    wc, wc_vals = create_where_parts(keywords)\n",
    "    #\n",
    "    keyword_query = KEYWORD_QUERY_TEMPLATE.format(where_clause=wc, n=n)\n",
    "    vals = tuple(wc_vals + [n])\n",
    "    return [\n",
    "        # let's pass a number to keep the output shape\n",
    "        (row.snippet, 1.0)\n",
    "        for row in session.execute(keyword_query, vals)\n",
    "    ]"
   ]
  },
  {
   "cell_type": "markdown",
   "id": "83594272-581b-4a05-874f-d66e81c9c657",
   "metadata": {},
   "source": [
    "Note that \"speak\" matches \"speaking\" and \"Speaking\".\n",
    "\n",
    "But also remember that this index is (purposefully) configured not to process the query, so you should not expect results when passing keywords such as `\"Speak\", \"speaking\", \"having trouble\"`."
   ]
  },
  {
   "cell_type": "code",
   "execution_count": 94,
   "id": "4dbddd7c-8441-4379-a5b1-40cb9b8726c6",
   "metadata": {},
   "outputs": [
    {
     "name": "stdout",
     "output_type": "stream",
     "text": [
      "[1] 1.00000 \"The support operator is using foul language when speaking.\"\n",
      "[2] 1.00000 \"I cannot speak with the support operator!\"\n",
      "[3] 1.00000 \"Speaking to a technicial is impossible, WTF?\"\n",
      "[4] 1.00000 \"I cannot speak with support operators!\"\n"
     ]
    }
   ],
   "source": [
    "show(find_by_keywords(['speak'], 10))"
   ]
  },
  {
   "cell_type": "code",
   "execution_count": 96,
   "id": "23b1eb3c-3bba-4c60-8904-e558e657069a",
   "metadata": {},
   "outputs": [],
   "source": [
    "show(find_by_keywords(['Speak'], 10))\n",
    "show(find_by_keywords(['speaking'], 10))\n",
    "show(find_by_keywords(['having trouble'], 10))"
   ]
  },
  {
   "cell_type": "markdown",
   "id": "51f7f406-466a-4bfa-ba4c-09cfba0421ed",
   "metadata": {},
   "source": [
    "## _To be continued ..._"
   ]
  }
 ],
 "metadata": {
  "kernelspec": {
   "display_name": "Python 3 (ipykernel)",
   "language": "python",
   "name": "python3"
  },
  "language_info": {
   "codemirror_mode": {
    "name": "ipython",
    "version": 3
   },
   "file_extension": ".py",
   "mimetype": "text/x-python",
   "name": "python",
   "nbconvert_exporter": "python",
   "pygments_lexer": "ipython3",
   "version": "3.10.12"
  }
 },
 "nbformat": 4,
 "nbformat_minor": 5
}
