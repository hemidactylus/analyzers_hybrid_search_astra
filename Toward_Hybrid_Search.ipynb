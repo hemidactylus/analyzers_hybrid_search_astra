{
 "cells": [
  {
   "cell_type": "code",
   "execution_count": 1,
   "id": "65706bf4-41d5-45d7-86d7-309d692a616b",
   "metadata": {},
   "outputs": [],
   "source": [
    "import os\n",
    "from functools import partial\n",
    "from operator import itemgetter\n",
    "from dotenv import load_dotenv\n",
    "import hashlib\n",
    "\n",
    "_ = load_dotenv('.env')"
   ]
  },
  {
   "cell_type": "code",
   "execution_count": 2,
   "id": "16a132a7-cf3b-4899-9adb-7f761b8bc6b8",
   "metadata": {},
   "outputs": [],
   "source": [
    "import cassio"
   ]
  },
  {
   "cell_type": "code",
   "execution_count": 3,
   "id": "ce05e410-dee8-4032-a0f3-e5d2c4fcdca8",
   "metadata": {},
   "outputs": [],
   "source": [
    "cassio.init(\n",
    "    token=os.environ['ASTRA_DB_APPLICATION_TOKEN'],\n",
    "    database_id=os.environ['ASTRA_DB_ID'],\n",
    "    keyspace=os.environ.get('ASTRA_DB_KEYSPACE'),\n",
    ")"
   ]
  },
  {
   "cell_type": "code",
   "execution_count": 4,
   "id": "25f71ae1-4ce4-4c49-bccd-a95006323b18",
   "metadata": {},
   "outputs": [],
   "source": [
    "# we need those as we'll run 'bare CQL' here\n",
    "session = cassio.config.resolve_session()\n",
    "keyspace = cassio.config.resolve_keyspace()"
   ]
  },
  {
   "cell_type": "markdown",
   "id": "42b3ecff-575d-411c-acf4-91aa57745307",
   "metadata": {},
   "source": [
    "# Toward Hybrid search\n",
    "\n",
    "Problem: we have several text snippets which will be vector-searched.\n",
    "\n",
    "But it will be apparent that \"vector search is not enough\". What we'll explore here are solutions for hybrid search that scale well at Astra DB scale."
   ]
  },
  {
   "cell_type": "code",
   "execution_count": 5,
   "id": "9da8b7c2-049b-4afd-bc95-5a883dbda780",
   "metadata": {},
   "outputs": [],
   "source": [
    "snippets = [\n",
    "    \"I would like to buy gift cards. Where can I get discounts?\",\n",
    "    \"The support operator is using foul language.\",\n",
    "    \"I cannot open the support chat.\",\n",
    "    \"I see no messages in the support chat.\",\n",
    "    \"Are special offers available?\",\n",
    "    \"An operator chats with several people at the same time?\",\n",
    "    \"A message disappeared from the chat?\",\n",
    "    \"The support chat on the website is lagging.\",\n",
    "    \"I cannot speak with the support operator!\",\n",
    "    \"The operator is giving useless messages.\",\n",
    "    \"I want to inquire about a specific product line.\",\n",
    "    \"Is there any special offer today?\",\n",
    "    \"I have tried multiple times to make a payment but it does not get processed.\",\n",
    "    \"I am having trouble opening my shopping cart!\",\n",
    "    \"Speaking to a technicial is impossible, WTF?\",\n",
    "]"
   ]
  },
  {
   "cell_type": "markdown",
   "id": "4123047f-6019-4ed4-bfa8-ccf8f2bfe593",
   "metadata": {},
   "source": [
    "We are intentionally leaving out any field such as \"metadata\", to try and focus exclusively on the text. In other words, adding metadata to the ingested corpus would require an effort (sudh as manual/AI-assisted labeling) which would scale with the number of rows, which we are trying to avoid by shifting all the load on the query side."
   ]
  },
  {
   "cell_type": "code",
   "execution_count": 6,
   "id": "61a0ac69-4bc6-467b-8f17-3b92dad4eab8",
   "metadata": {},
   "outputs": [],
   "source": [
    "vector_dimension = 1536  # openAI ..."
   ]
  },
  {
   "cell_type": "code",
   "execution_count": 7,
   "id": "03bc347d-382c-4bac-918d-93fcaa0b6061",
   "metadata": {},
   "outputs": [
    {
     "data": {
      "text/plain": [
       "<cassandra.cluster.ResultSet at 0x7f39ef037cd0>"
      ]
     },
     "execution_count": 7,
     "metadata": {},
     "output_type": "execute_result"
    }
   ],
   "source": [
    "CREATE_CQL = f\"CREATE TABLE {keyspace}.snippets (snippet_id TEXT PRIMARY KEY, snippet TEXT, embedding VECTOR<FLOAT,{vector_dimension}>);\"\n",
    "session.execute(CREATE_CQL)\n",
    "\n",
    "CREATE_V_IDX = f\"CREATE CUSTOM INDEX snippets_embedding_idx ON {keyspace}.snippets (embedding) USING 'StorageAttachedIndex';\"\n",
    "session.execute(CREATE_V_IDX)"
   ]
  },
  {
   "cell_type": "markdown",
   "id": "2f433fd8-6a8a-4698-971c-2121fdaa092d",
   "metadata": {},
   "source": [
    "## Get embeddings and insert rows"
   ]
  },
  {
   "cell_type": "code",
   "execution_count": 8,
   "id": "2e3c885a-e8d2-4b2d-a62e-34270fed5c21",
   "metadata": {},
   "outputs": [],
   "source": [
    "import openai\n",
    "\n",
    "embedding_model_name = \"text-embedding-ada-002\"\n",
    "\n",
    "def get_embeddings(texts):\n",
    "    result = openai.Embedding.create(\n",
    "        input=texts,\n",
    "        engine=embedding_model_name,\n",
    "    )\n",
    "    return [res.embedding for res in result.data]"
   ]
  },
  {
   "cell_type": "code",
   "execution_count": 9,
   "id": "e0331abf-5b6c-4c26-b9dc-8b0fbd4fcbb2",
   "metadata": {},
   "outputs": [
    {
     "name": "stdout",
     "output_type": "stream",
     "text": [
      "50f0866734db8ec79171ddc6b13988d9\n"
     ]
    }
   ],
   "source": [
    "def snippet_id(sn): return hashlib.md5(sn.encode()).hexdigest()\n",
    "\n",
    "print(snippet_id(\"Test snippet.\"))"
   ]
  },
  {
   "cell_type": "code",
   "execution_count": 10,
   "id": "7a948b2e-990e-4ec1-b1a2-4900f3375f38",
   "metadata": {},
   "outputs": [],
   "source": [
    "# TODO if ever needed, add batching to this.\n",
    "\n",
    "embeddings = get_embeddings(snippets)\n",
    "\n",
    "INSERT_ROW = session.prepare(f\"INSERT INTO {keyspace}.snippets (snippet_id, snippet, embedding) VALUES (?, ?, ?);\")\n",
    "\n",
    "for snippet, embedding in zip(snippets, embeddings):\n",
    "    session.execute(INSERT_ROW, (\n",
    "        snippet_id(snippet),\n",
    "        snippet,\n",
    "        embedding,\n",
    "    ))"
   ]
  },
  {
   "cell_type": "markdown",
   "id": "aaa42674-c782-4e2b-a3dd-3e6797f21be8",
   "metadata": {},
   "source": [
    "## Simple retrieval"
   ]
  },
  {
   "cell_type": "code",
   "execution_count": 11,
   "id": "f68d2e18-8584-4c74-85b5-8c5801d82273",
   "metadata": {},
   "outputs": [],
   "source": [
    "SIMPLE_ANN = session.prepare(f\"SELECT snippet, similarity_cosine(embedding, ?) as similarity FROM {keyspace}.snippets ORDER BY embedding ANN OF ? LIMIT ?\")\n",
    "\n",
    "def simple_ann(query, top_k=3):\n",
    "    q_vector = get_embeddings([query])[0]\n",
    "    return [\n",
    "        (row.snippet, row.similarity)\n",
    "        for row in session.execute(SIMPLE_ANN, (\n",
    "            q_vector,\n",
    "            q_vector,\n",
    "            top_k,\n",
    "        ))\n",
    "    ]"
   ]
  },
  {
   "cell_type": "code",
   "execution_count": 12,
   "id": "67c0ba88-a7d8-440f-bb06-a95cc7560ae2",
   "metadata": {},
   "outputs": [],
   "source": [
    "def show(results):\n",
    "    for ri, (sn, si) in enumerate(results):\n",
    "        print(f\"    [{ri+1}] {si:.5f} \\\"{sn}\\\"\")"
   ]
  },
  {
   "cell_type": "code",
   "execution_count": 13,
   "id": "fef3cb61-bfeb-41e5-b467-6791948c5704",
   "metadata": {},
   "outputs": [
    {
     "name": "stdout",
     "output_type": "stream",
     "text": [
      "QUERY: 'I cannot even use the frigging website!'\n",
      "    [1] 0.92651 \"I am having trouble opening my shopping cart!\"\n",
      "    [2] 0.92547 \"I cannot speak with the support operator!\"\n",
      "    [3] 0.91488 \"I cannot open the support chat.\"\n",
      "    [4] 0.91049 \"The support chat on the website is lagging.\"\n",
      "    [5] 0.90430 \"Speaking to a technicial is impossible, WTF?\"\n"
     ]
    }
   ],
   "source": [
    "QUERY = \"I cannot even use the frigging website!\"\n",
    "print(f\"QUERY: '{QUERY}'\")\n",
    "show(simple_ann(QUERY, 5))"
   ]
  },
  {
   "cell_type": "code",
   "execution_count": 14,
   "id": "f4820fed-47d0-4099-b51e-e3a4a8ec21f0",
   "metadata": {},
   "outputs": [
    {
     "name": "stdout",
     "output_type": "stream",
     "text": [
      "QUERY2: 'It seems that the website is broken'\n",
      "    [1] 0.91717 \"The support chat on the website is lagging.\"\n",
      "    [2] 0.90485 \"I am having trouble opening my shopping cart!\"\n",
      "    [3] 0.90108 \"I cannot open the support chat.\"\n",
      "    [4] 0.90091 \"I see no messages in the support chat.\"\n",
      "    [5] 0.89362 \"Speaking to a technicial is impossible, WTF?\"\n"
     ]
    }
   ],
   "source": [
    "QUERY2 = \"It seems that the website is broken\"\n",
    "print(f\"QUERY2: '{QUERY2}'\")\n",
    "show(simple_ann(QUERY2, 5))"
   ]
  },
  {
   "cell_type": "markdown",
   "id": "7f5ae2e6-d963-4325-b3a0-07a70ae2d745",
   "metadata": {},
   "source": [
    "#### Lesson: beware of setting a threshold on just-ANN and calling it a day!"
   ]
  },
  {
   "cell_type": "markdown",
   "id": "d85c09cc-adae-48ed-88f1-fb838c4f1ea8",
   "metadata": {},
   "source": [
    "## Supplemental indexing for Hybrid"
   ]
  },
  {
   "cell_type": "markdown",
   "id": "0bf97fb6-ae21-42ff-a698-ec9d6fa3ad88",
   "metadata": {},
   "source": [
    "General idea: adding a stemming tokenized index on the `snippet` column, and then run hybrid queries of some sort.\n",
    "\n",
    "Let's try to use the \"stemming + untouched query\" case from the previous part of this journey:"
   ]
  },
  {
   "cell_type": "code",
   "execution_count": 15,
   "id": "ecd2543e-531f-4533-bb68-18f080477e75",
   "metadata": {},
   "outputs": [
    {
     "data": {
      "text/plain": [
       "<cassandra.cluster.ResultSet at 0x7f39ef0355d0>"
      ]
     },
     "execution_count": 15,
     "metadata": {},
     "output_type": "execute_result"
    }
   ],
   "source": [
    "# Don't mind the \"{{\" and \"}}\", it's just to escape the F-string syntax here\n",
    "CREATE_S_IDX = f'''CREATE CUSTOM INDEX snippets_snippet_idx ON {keyspace}.snippets (snippet) USING 'StorageAttachedIndex'\n",
    "  WITH OPTIONS = {{\n",
    "    'index_analyzer': '{{\n",
    "      \"tokenizer\": {{\n",
    "        \"name\": \"standard\"\n",
    "      }},\n",
    "      \"filters\": [\n",
    "        {{\n",
    "          \"name\": \"lowercase\"\n",
    "        }},\n",
    "        {{\n",
    "          \"name\": \"porterstem\"\n",
    "        }}\n",
    "      ]\n",
    "    }}',\n",
    "    'query_analyzer': 'keyword'\n",
    "  }};'''\n",
    "\n",
    "session.execute(CREATE_S_IDX)"
   ]
  },
  {
   "cell_type": "markdown",
   "id": "35bed297-4362-4347-832c-5bae2db18dd3",
   "metadata": {},
   "source": [
    "#### A test query to see what this index finds"
   ]
  },
  {
   "cell_type": "code",
   "execution_count": 16,
   "id": "7e038f22-c25d-4713-b85a-050267123c05",
   "metadata": {},
   "outputs": [],
   "source": [
    "# we're not bothering with preparing statements here (variable shape, left as an exercise)\n",
    "# Hence, note the '%s' in place of the '?'.\n",
    "\n",
    "KEYWORD_QUERY_TEMPLATE = f\"SELECT snippet FROM {keyspace}.snippets{{where_clause}} LIMIT %s ALLOW FILTERING\"\n",
    "\n",
    "def create_where_parts(keywords, placeholder='%s', logical_joiner='AND'):\n",
    "    where_clause_pieces = [\n",
    "        f\"snippet : {placeholder}\"\n",
    "        for _ in sorted(set(keywords))\n",
    "    ]\n",
    "    where_clause_args = sorted(set(keywords))\n",
    "    if where_clause_pieces:\n",
    "        return (' WHERE ' + (f' {logical_joiner} ').join(where_clause_pieces), where_clause_args)\n",
    "    else:\n",
    "        return ('', list())\n",
    "\n",
    "def find_by_keywords(keywords, n=3):\n",
    "    wc, wc_vals = create_where_parts(keywords)\n",
    "    #\n",
    "    keyword_query = KEYWORD_QUERY_TEMPLATE.format(where_clause=wc)\n",
    "    vals = tuple(wc_vals + [n])\n",
    "    return [\n",
    "        # let's pass a number to keep the output shape\n",
    "        (row.snippet, 1.0)\n",
    "        for row in session.execute(keyword_query, vals)\n",
    "    ]"
   ]
  },
  {
   "cell_type": "markdown",
   "id": "83594272-581b-4a05-874f-d66e81c9c657",
   "metadata": {},
   "source": [
    "Note that \"speak\" matches \"speaking\" and \"Speaking\".\n",
    "\n",
    "But also remember that this index is (purposefully) configured not to process the query, so you should not expect results when passing keywords such as `\"Speak\", \"speaking\", \"having trouble\"`."
   ]
  },
  {
   "cell_type": "code",
   "execution_count": 17,
   "id": "4dbddd7c-8441-4379-a5b1-40cb9b8726c6",
   "metadata": {},
   "outputs": [
    {
     "name": "stdout",
     "output_type": "stream",
     "text": [
      "KEYWORDS: 'speak'\n",
      "    [1] 1.00000 \"I cannot speak with the support operator!\"\n",
      "    [2] 1.00000 \"Speaking to a technicial is impossible, WTF?\"\n"
     ]
    }
   ],
   "source": [
    "KW = ['speak']\n",
    "print(f\"KEYWORDS: \\'{', '.join(KW)}\\'\")\n",
    "show(find_by_keywords(KW, 10))"
   ]
  },
  {
   "cell_type": "code",
   "execution_count": 18,
   "id": "23b1eb3c-3bba-4c60-8904-e558e657069a",
   "metadata": {},
   "outputs": [],
   "source": [
    "show(find_by_keywords(['Speak'], 10))\n",
    "show(find_by_keywords(['speaking'], 10))\n",
    "show(find_by_keywords(['having trouble'], 10))"
   ]
  },
  {
   "cell_type": "markdown",
   "id": "51f7f406-466a-4bfa-ba4c-09cfba0421ed",
   "metadata": {},
   "source": [
    "## Hybrid proper"
   ]
  },
  {
   "cell_type": "markdown",
   "id": "b9e49372-4345-4d27-a6be-d30ac2f68a8c",
   "metadata": {},
   "source": [
    "Assume that \"stemming + untouched query\" is the right analyzers solution to go with vectors. Then it's time to combine the two for real.\n",
    "\n",
    "There are several things to consider in approaching \"hybrid search\". The first choice can be stated as:\n",
    "- vector condition and term condition are in AND or OR? In other words, do we run a single query or two queries and merge the results \"code-side\"?\n",
    "\n",
    "Another point will be,\n",
    "- explore re-ranking methods and form a \"code-side\" logic that combines the similarity coming from ANN with a computed keyword-matching-score. Possibly with user-supplied relative weights.\n",
    "- This likely calls for a higher prefetch value and some client-side processing.\n",
    "\n",
    "But what is our \"keyword query\"?\n",
    "- Do we require _all_ keywords to be featured, or even a single one is ok (the more, the higher the 'score')?\n",
    "- Possibly this could venture in the territory of arbitrary nesting of AND and OR with term predicates (**Not addressed yet**)\n",
    "\n",
    "Last, important point. We will start with an interface where terms are supplied explicitly, but the final goal is a \"magic box\" where only the `query` is passed as input, the keyword being extracted behind the scenes from the query. Who does that? How is that done?\n",
    "- We will address this point once the previous ones are better understood."
   ]
  },
  {
   "cell_type": "markdown",
   "id": "3dd7f9de-b893-48fc-a51a-d79e96c8079b",
   "metadata": {},
   "source": [
    "### Single-query approach (i.e. vector AND keywords)"
   ]
  },
  {
   "cell_type": "markdown",
   "id": "325d5bec-9fec-423a-8a79-2e056c9c7a57",
   "metadata": {},
   "source": [
    "We start with a \"manual\" approach, a function that accepts an explicit list of terms. And now we require the keyword predicate right in the vector search:"
   ]
  },
  {
   "cell_type": "code",
   "execution_count": 19,
   "id": "f0378ab9-743d-4e5d-a03d-7febdd304f4e",
   "metadata": {},
   "outputs": [],
   "source": [
    "# Again, we don't bother with preparing statements in this demo - shapeshifter CQL statement.\n",
    "HYBRID_ANN_QUERY_TEMPLATE = \"\"\"\n",
    "SELECT snippet, similarity_cosine(embedding, %s) as similarity\n",
    "FROM {keyspace}.snippets\n",
    "  {{where_clause}}\n",
    "  ORDER BY embedding ANN OF %s\n",
    "  LIMIT %s ;\n",
    "\"\"\".format(keyspace=keyspace)\n",
    "\n",
    "def hybrid_ann(query, keywords=[], top_k=3):\n",
    "    q_vector = get_embeddings([query])[0]\n",
    "    #\n",
    "    wc, wc_vals = create_where_parts(keywords)\n",
    "    #\n",
    "    hybrid_query = HYBRID_ANN_QUERY_TEMPLATE.format(where_clause=wc)\n",
    "    hq_values = tuple([q_vector] + wc_vals + [q_vector, top_k])\n",
    "    return [\n",
    "        (row.snippet, row.similarity)\n",
    "        for row in session.execute(hybrid_query, hq_values)\n",
    "    ]"
   ]
  },
  {
   "cell_type": "code",
   "execution_count": 20,
   "id": "52508bab-fc40-45ee-acc3-1c4bb0bfbdf5",
   "metadata": {},
   "outputs": [
    {
     "name": "stdout",
     "output_type": "stream",
     "text": [
      "QUERY: 'How come I cannot chat?', KEYWORDS: 'support'\n",
      "    [1] 0.93516 \"I cannot open the support chat.\"\n",
      "    [2] 0.92320 \"I see no messages in the support chat.\"\n",
      "    [3] 0.91677 \"I cannot speak with the support operator!\"\n",
      "    [4] 0.90999 \"The support chat on the website is lagging.\"\n"
     ]
    }
   ],
   "source": [
    "KW3 = ['support']\n",
    "QUERY3 = \"How come I cannot chat?\"\n",
    "print(f\"QUERY: '{QUERY3}', KEYWORDS: \\'{', '.join(KW3)}\\'\")\n",
    "show(hybrid_ann(QUERY3, KW3, 4))"
   ]
  },
  {
   "cell_type": "code",
   "execution_count": 21,
   "id": "836ab2cc-74bc-4fd7-85a8-e6d704a64fef",
   "metadata": {},
   "outputs": [
    {
     "name": "stdout",
     "output_type": "stream",
     "text": [
      "QUERY: 'How come I cannot chat?', KEYWORDS: 'support, chat'\n",
      "    [1] 0.93515 \"I cannot open the support chat.\"\n",
      "    [2] 0.92317 \"I see no messages in the support chat.\"\n",
      "    [3] 0.90996 \"The support chat on the website is lagging.\"\n"
     ]
    }
   ],
   "source": [
    "KW4 = ['support', 'chat']\n",
    "QUERY4 = \"How come I cannot chat?\"\n",
    "print(f\"QUERY: '{QUERY4}', KEYWORDS: \\'{', '.join(KW4)}\\'\")\n",
    "show(hybrid_ann(QUERY4, KW4, 8))"
   ]
  },
  {
   "cell_type": "markdown",
   "id": "37b8b783-cce1-43cd-82d5-937da5cdf34d",
   "metadata": {},
   "source": [
    "### Single-query, but with keywords in OR\n",
    "\n",
    "This is interesting. We want to count as matches rows which have _at least one_ of the supplied keywords. (this is why we equipped the where-creation utility with a parameter for the logical joiner, defaulting to \"and\"...)"
   ]
  },
  {
   "cell_type": "code",
   "execution_count": 22,
   "id": "e0f3863d-e9ee-41dc-98b2-29246f3edca3",
   "metadata": {},
   "outputs": [],
   "source": [
    "def hybrid_ann_anykeyword(query, keywords=[], top_k=3):\n",
    "    q_vector = get_embeddings([query])[0]\n",
    "    #\n",
    "    wc, wc_vals = create_where_parts(keywords, logical_joiner='OR')\n",
    "    #\n",
    "    hybrid_query = HYBRID_ANN_QUERY_TEMPLATE.format(where_clause=wc)\n",
    "    hq_values = tuple([q_vector] + wc_vals + [q_vector, top_k])\n",
    "    return [\n",
    "        (row.snippet, row.similarity)\n",
    "        for row in session.execute(hybrid_query, hq_values)\n",
    "    ]"
   ]
  },
  {
   "cell_type": "markdown",
   "id": "d61bc9dd-0233-471c-b352-4ec93545be13",
   "metadata": {},
   "source": [
    "You see differences from the AND case when having more than one keyword (but notice the similarity is vector-only):"
   ]
  },
  {
   "cell_type": "code",
   "execution_count": 23,
   "id": "44255e8e-3ad9-4101-908f-1931bf35f419",
   "metadata": {},
   "outputs": [
    {
     "name": "stdout",
     "output_type": "stream",
     "text": [
      "QUERY: 'How come I cannot chat?', KEYWORDS: 'support, chat'\n",
      "    [1] 0.93515 \"I cannot open the support chat.\"\n",
      "    [2] 0.93222 \"A message disappeared from the chat?\"\n",
      "    [3] 0.92317 \"I see no messages in the support chat.\"\n",
      "    [4] 0.91675 \"I cannot speak with the support operator!\"\n",
      "    [5] 0.91518 \"An operator chats with several people at the same time?\"\n",
      "    [6] 0.90996 \"The support chat on the website is lagging.\"\n"
     ]
    }
   ],
   "source": [
    "KW5 = ['support', 'chat']\n",
    "QUERY5 = \"How come I cannot chat?\"\n",
    "print(f\"QUERY: '{QUERY5}', KEYWORDS: \\'{', '.join(KW5)}\\'\")\n",
    "show(hybrid_ann_anykeyword(QUERY5, KW5, 8))"
   ]
  },
  {
   "cell_type": "markdown",
   "id": "80b7ecb0-8534-45ad-be49-4b693b3966c1",
   "metadata": {},
   "source": [
    "### The quest for an overall \"hybrid score\"\n",
    "\n",
    "We want a similarity that combines the keyword requirements as well. Something simple like\n",
    "\n",
    "```\n",
    "score = (1-rho) * vector_similarity + rho * keyword_similarity\n",
    "```\n",
    "\n",
    "or\n",
    "\n",
    "```\n",
    "score = vector_similarity^(1-rho) + keyword_similarity^rho\n",
    "```\n",
    "\n",
    "where the two similarities are thought to be between zero and one (or narrower in practice). Also the \"keyword importance\" `rho` parameter ideally is user-supplied during a phase of \"tuning to the problem domain\" (and is assumed to lie in `(0:1)`).\n",
    "\n",
    "Let's come up with a generic postprocessor that we want to apply to any specific search technique:"
   ]
  },
  {
   "cell_type": "code",
   "execution_count": 25,
   "id": "f29f38f7-32de-4eef-bdef-fee292a8be96",
   "metadata": {},
   "outputs": [],
   "source": [
    "# Draft implementations, don't take these too seriously for real texts\n",
    "\n",
    "PUNKT = set('!,.?;\\'\"-+=/[]{}()\\n')\n",
    "\n",
    "def keyword_similarity(snippet, keywords=[], min=0.0, max=1.0):\n",
    "    # if no keywords, we always return the max - to avoid breaking simpler flows\n",
    "    if not keywords:\n",
    "        return max\n",
    "    else:\n",
    "        _snp = ''.join([c for c in snippet if c not in PUNKT]).lower()\n",
    "        toks = {tk for tk in _snp.split(' ') if tk}\n",
    "        kw_set = set(keywords)\n",
    "        num_kw = len(kw_set)\n",
    "        num_hits = len(toks & kw_set)\n",
    "        return min + (max - min) * num_hits / num_kw"
   ]
  },
  {
   "cell_type": "code",
   "execution_count": 29,
   "id": "9bbc46fb-c908-40ab-a7d1-88c3039cb472",
   "metadata": {},
   "outputs": [
    {
     "name": "stdout",
     "output_type": "stream",
     "text": [
      "0.6666666666666666\n",
      "0.9333333333333333\n"
     ]
    }
   ],
   "source": [
    "# A little test\n",
    "print(keyword_similarity(\"The quick brown fox ... wait, that's too long!\", [\"fox\", \"deer\", \"long\"]))\n",
    "\n",
    "print(keyword_similarity(\"The quick brown fox ... wait, that's too long!\", [\"fox\", \"deer\", \"long\"], min=0.8))"
   ]
  },
  {
   "cell_type": "code",
   "execution_count": 27,
   "id": "6249138d-5db9-4437-9a5a-e58940fa6999",
   "metadata": {},
   "outputs": [],
   "source": [
    "def sum_score_merger(ann_sim, kw_sim, rho=0.5):\n",
    "    return (1-rho)*ann_sim + rho*kw_sim\n",
    "\n",
    "\n",
    "def combine_ann_with_kw_similarity(ann_results, keywords, kw_similarity_function=keyword_similarity, score_merger_function=sum_score_merger):\n",
    "    # kw_similarity_function must accept a (text, kw_list) signature - possibly through partialing\n",
    "    return sorted(\n",
    "        (\n",
    "            (\n",
    "                snp,\n",
    "                (score_merger_function(ann_sim, kw_similarity_function(snp, keywords))),\n",
    "            )\n",
    "            for snp, ann_sim in ann_results\n",
    "        ),\n",
    "        key=itemgetter(1),\n",
    "        reverse=True,\n",
    "    )"
   ]
  },
  {
   "cell_type": "markdown",
   "id": "38f4e7b9-7caf-4f1a-89d4-f77359dbc793",
   "metadata": {},
   "source": [
    "Let's retry the last hybrid query, aiming at a more balanced way to pick the \"top\" results:"
   ]
  },
  {
   "cell_type": "code",
   "execution_count": 30,
   "id": "3b33076a-5719-48f9-a33a-37d8007d0376",
   "metadata": {},
   "outputs": [],
   "source": [
    "# utility function\n",
    "def hybrid_ann_anykw_fullscore(query, keywords=[], top_k=3):\n",
    "    return combine_ann_with_kw_similarity(\n",
    "        hybrid_ann_anykeyword(query, keywords, top_k),\n",
    "        keywords,\n",
    "    )"
   ]
  },
  {
   "cell_type": "code",
   "execution_count": 31,
   "id": "ab3bea97-910d-427a-8738-3a2a439bf587",
   "metadata": {},
   "outputs": [
    {
     "name": "stdout",
     "output_type": "stream",
     "text": [
      "QUERY: 'How come I cannot chat?', KEYWORDS: 'support, chat'\n",
      "    [1] 0.96757 \"I cannot open the support chat.\"\n",
      "    [2] 0.96157 \"I see no messages in the support chat.\"\n",
      "    [3] 0.95497 \"The support chat on the website is lagging.\"\n",
      "    [4] 0.71610 \"A message disappeared from the chat?\"\n",
      "    [5] 0.70836 \"I cannot speak with the support operator!\"\n",
      "    [6] 0.45759 \"An operator chats with several people at the same time?\"\n"
     ]
    }
   ],
   "source": [
    "KW5 = ['support', 'chat']\n",
    "QUERY5 = \"How come I cannot chat?\"\n",
    "print(f\"QUERY: '{QUERY5}', KEYWORDS: \\'{', '.join(KW5)}\\'\")\n",
    "show(hybrid_ann_anykw_fullscore(QUERY5, KW5, 8))"
   ]
  },
  {
   "cell_type": "markdown",
   "id": "47fe3381-44cd-4c4c-b745-70a503987693",
   "metadata": {},
   "source": [
    "Now the results with _both_ keywords are at the top. But perhaps the gap is too high?\n",
    "\n",
    "Knowledge of the problem domain, and the typical matches, might lead to tuning the involved parameters for optimal results, e.g.:"
   ]
  },
  {
   "cell_type": "code",
   "execution_count": 32,
   "id": "859b8a2c-eab0-40e4-a71f-e388870f434b",
   "metadata": {},
   "outputs": [],
   "source": [
    "my_keyword_similarity = partial(keyword_similarity, min=0.95)\n",
    "my_sum_score_merger = partial(sum_score_merger, rho=0.2)\n",
    "\n",
    "\n",
    "def my_hybrid_ann_anykw_fullscore(query, keywords=[], top_k=3):\n",
    "    return combine_ann_with_kw_similarity(\n",
    "        hybrid_ann_anykeyword(query, keywords, top_k),\n",
    "        keywords,\n",
    "        kw_similarity_function=my_keyword_similarity,\n",
    "        score_merger_function=my_sum_score_merger,\n",
    "    )"
   ]
  },
  {
   "cell_type": "code",
   "execution_count": 33,
   "id": "d1957ada-9205-4182-8077-1ee0705f5e77",
   "metadata": {},
   "outputs": [
    {
     "name": "stdout",
     "output_type": "stream",
     "text": [
      "QUERY: 'How come I cannot chat?', KEYWORDS: 'support, chat'\n",
      "    [1] 0.94810 \"I cannot open the support chat.\"\n",
      "    [2] 0.94073 \"A message disappeared from the chat?\"\n",
      "    [3] 0.93850 \"I see no messages in the support chat.\"\n",
      "    [4] 0.92837 \"I cannot speak with the support operator!\"\n",
      "    [5] 0.92794 \"The support chat on the website is lagging.\"\n",
      "    [6] 0.92212 \"An operator chats with several people at the same time?\"\n"
     ]
    }
   ],
   "source": [
    "KW6 = ['support', 'chat']\n",
    "QUERY6 = \"How come I cannot chat?\"\n",
    "print(f\"QUERY: '{QUERY6}', KEYWORDS: \\'{', '.join(KW6)}\\'\")\n",
    "show(my_hybrid_ann_anykw_fullscore(QUERY6, KW6, 8))"
   ]
  },
  {
   "cell_type": "markdown",
   "id": "eab50aa4-3887-4fb4-8030-648a873d3073",
   "metadata": {},
   "source": [
    "Note the different order, coming from a new definition of the \"full similarity\".\n",
    "\n",
    "But then, with the re-ranking occurring on \"code-side\", it is entirely possible that results that would rank higher are left out of the ANN query in the first place! A better definition would entail some sort of \"safe-enough\" higher prefetch `k`, and a later in-code cut to the required `top_k` (with the introduction of a \"prefetch factor\" constant to be kept high enough):"
   ]
  },
  {
   "cell_type": "code",
   "execution_count": 34,
   "id": "c430c52d-ac71-482d-bca7-dba748fb5bdd",
   "metadata": {},
   "outputs": [],
   "source": [
    "# one function to rule them all...\n",
    "def hybrid_ann_anykw_fullscore_prefetch(query, keywords=[], top_k=3, kw_similarity_function=keyword_similarity,\n",
    "                                        score_merger_function=sum_score_merger, prefetch_factor=5):\n",
    "    prefetch_k = prefetch_factor * top_k if keywords else top_k\n",
    "    # Warning: wasteful implementation, that's not the point :)\n",
    "    return combine_ann_with_kw_similarity(\n",
    "        hybrid_ann_anykeyword(query, keywords, prefetch_k),\n",
    "        keywords,\n",
    "        kw_similarity_function=kw_similarity_function,\n",
    "        score_merger_function=score_merger_function,\n",
    "    )[:top_k]"
   ]
  },
  {
   "cell_type": "markdown",
   "id": "65deccec-bc2f-43a6-8280-d6b4900983e5",
   "metadata": {},
   "source": [
    "As predicted, not doing the prefetch (demonstrated in the second query below) favors results that would rightfully be surpassed by more deserving hits:"
   ]
  },
  {
   "cell_type": "code",
   "execution_count": 35,
   "id": "fcb8cc75-730b-4580-a60a-d0cfcbc0cfc5",
   "metadata": {},
   "outputs": [
    {
     "name": "stdout",
     "output_type": "stream",
     "text": [
      "[with safe prefetch] QUERY: 'How come I cannot chat?', KEYWORDS: 'support, chat'\n",
      "    [1] 0.96756 \"I cannot open the support chat.\"\n",
      "    [2] 0.96156 \"I see no messages in the support chat.\"\n",
      "    [3] 0.95496 \"The support chat on the website is lagging.\"\n",
      "\n",
      "[without safe prefetch] QUERY: 'How come I cannot chat?', KEYWORDS: 'support, chat'\n",
      "    [1] 0.96758 \"I cannot open the support chat.\"\n",
      "    [2] 0.96158 \"I see no messages in the support chat.\"\n",
      "    [3] 0.71610 \"A message disappeared from the chat?\"\n"
     ]
    }
   ],
   "source": [
    "KW7 = ['support', 'chat']\n",
    "QUERY7 = \"How come I cannot chat?\"\n",
    "print(f\"[with safe prefetch] QUERY: '{QUERY7}', KEYWORDS: \\'{', '.join(KW7)}\\'\")\n",
    "show(hybrid_ann_anykw_fullscore_prefetch(QUERY7, KW7, 3))\n",
    "\n",
    "print(f\"\\n[without safe prefetch] QUERY: '{QUERY7}', KEYWORDS: \\'{', '.join(KW7)}\\'\")\n",
    "show(hybrid_ann_anykw_fullscore_prefetch(QUERY7, KW7, 3, prefetch_factor=1))"
   ]
  },
  {
   "cell_type": "markdown",
   "id": "ae7578a8-8c6f-40e8-95b8-b2a02dd8b15f",
   "metadata": {},
   "source": [
    "### Summary so far"
   ]
  },
  {
   "cell_type": "markdown",
   "id": "bc1ea6b7-17ac-442c-9f6f-c7f5e3077a95",
   "metadata": {},
   "source": [
    "We have a \"hybrid search\" tool that:\n",
    "- takes semantic _and_ keywords into account in searching\n",
    "- combines the score into an overall \"similarity\" assessment\n",
    "- thanks to prefetching, mostly ensures the right hits are found\n",
    "- is easily configurable as for the parameters involved. These largely depend on the problem domain and the dataset (and are: `rho`, max/min for the keyword score, and the prefetch factor).\n",
    "- Also the _functional form_ for computing the keyword score and mixing it to the semantic similarity can be customized with reasonable effort.\n",
    "\n",
    "Remember, if you want to require _all_ keywords to be found, most of this machinery is moot and you can go back to using the plain `hybrid_ann`.\n",
    "\n",
    "_(with little additional coding effort, you can handle less obvious requirements as well. If, for example, you need at least _two_ keywords for a match, you can customize the similarity and the score merger functions to yield a zero if only one is encountered, ...)_"
   ]
  },
  {
   "cell_type": "markdown",
   "id": "a49a8b54-65cb-405f-b4ef-e42dd7a1d063",
   "metadata": {},
   "source": [
    "Note that the above `hybrid_ann_anykw_fullscore_prefetch` also works as a \"simple ANN\" tool (there's also a little optimization that avoids the prefetch if no keywords are supplied):"
   ]
  },
  {
   "cell_type": "markdown",
   "id": "42436bb0-0588-4b18-ba36-b38bb3477161",
   "metadata": {},
   "source": [
    "The only caveat is that you'd get different _numbers_ out-of-the-box (but: same results in the same order).\n",
    "\n",
    "You would need to adjust the parameters to reconstruct the very same numbers."
   ]
  },
  {
   "cell_type": "code",
   "execution_count": 36,
   "id": "de43bd75-ffe4-4e7f-a4ca-7bd472742f5f",
   "metadata": {},
   "outputs": [
    {
     "name": "stdout",
     "output_type": "stream",
     "text": [
      "[hybrid_ann] QUERY: 'I am looking for cheap stuff'\n",
      "    [1] 0.91006 \"I would like to buy gift cards. Where can I get discounts?\"\n",
      "    [2] 0.89789 \"I want to inquire about a specific product line.\"\n",
      "    [3] 0.89473 \"Are special offers available?\"\n",
      "\n",
      "[hybrid_ann_anykw_fullscore_prefetch] QUERY: 'I am looking for cheap stuff'\n",
      "    [1] 0.95502 \"I would like to buy gift cards. Where can I get discounts?\"\n",
      "    [2] 0.94893 \"I want to inquire about a specific product line.\"\n",
      "    [3] 0.94736 \"Are special offers available?\"\n",
      "\n",
      "[hybrid_ann_anykw_fullscore_prefetch, scale adjusted] QUERY: 'I am looking for cheap stuff'\n",
      "    [1] 0.91006 \"I would like to buy gift cards. Where can I get discounts?\"\n",
      "    [2] 0.89789 \"I want to inquire about a specific product line.\"\n",
      "    [3] 0.89473 \"Are special offers available?\"\n"
     ]
    }
   ],
   "source": [
    "QUERY8 = \"I am looking for cheap stuff\"\n",
    "print(f\"[hybrid_ann] QUERY: '{QUERY8}'\")\n",
    "show(hybrid_ann(QUERY8))\n",
    "\n",
    "print(f\"\\n[hybrid_ann_anykw_fullscore_prefetch] QUERY: '{QUERY8}'\")\n",
    "show(hybrid_ann_anykw_fullscore_prefetch(QUERY8))\n",
    "\n",
    "print(f\"\\n[hybrid_ann_anykw_fullscore_prefetch, scale adjusted] QUERY: '{QUERY8}'\")\n",
    "show(hybrid_ann_anykw_fullscore_prefetch(\n",
    "    query=QUERY8,\n",
    "    score_merger_function=partial(sum_score_merger, rho=0.0)\n",
    "))"
   ]
  },
  {
   "cell_type": "markdown",
   "id": "17c6755e-8370-40a6-ad77-4b18a5d94f78",
   "metadata": {},
   "source": [
    "### This is it for the time being.\n",
    "\n",
    "In the next notebook, we'll start from the `hybrid_ann_anykw_fullscore_prefetch` and worry about the upper layer\n",
    "in the stack, namely _how to automate keyword extraction from the supplied query_."
   ]
  },
  {
   "cell_type": "markdown",
   "id": "885dfafb-d9ab-4663-9089-4841012153aa",
   "metadata": {},
   "source": [
    "## Note: multiple-query approach\n",
    "\n",
    "Running and merging two independent queries (keyword-only and vector-only) is **postponed for the time being**.\n",
    "\n",
    "Notes to keep in mind in that case:\n",
    "- we want to avoid duplicates when merging\n",
    "- we need to be careful in (1) keeping the signature compatible with the above manpulations/postprocessing, when applicable, (2) figuring out if, and how, there is a \"similarity\" to compare the two types of match."
   ]
  }
 ],
 "metadata": {
  "kernelspec": {
   "display_name": "Python 3 (ipykernel)",
   "language": "python",
   "name": "python3"
  },
  "language_info": {
   "codemirror_mode": {
    "name": "ipython",
    "version": 3
   },
   "file_extension": ".py",
   "mimetype": "text/x-python",
   "name": "python",
   "nbconvert_exporter": "python",
   "pygments_lexer": "ipython3",
   "version": "3.10.12"
  }
 },
 "nbformat": 4,
 "nbformat_minor": 5
}
